{
 "cells": [
  {
   "cell_type": "code",
   "execution_count": 1,
   "id": "4cec14a2",
   "metadata": {},
   "outputs": [],
   "source": [
    "# Load packages\n",
    "import pandas as pd\n",
    "import numpy as np\n",
    "import plotly\n",
    "import plotly.graph_objects as go\n",
    "import plotly.express as px\n",
    "import matplotlib.colors"
   ]
  },
  {
   "cell_type": "code",
   "execution_count": 3,
   "id": "6a6ace94",
   "metadata": {},
   "outputs": [
    {
     "name": "stdout",
     "output_type": "stream",
     "text": [
      "Group          object\n",
      "Draft Round    object\n",
      "Starter 2+     object\n",
      "PB Check       object\n",
      "Players         int64\n",
      "dtype: object\n"
     ]
    },
    {
     "data": {
      "text/html": [
       "<div>\n",
       "<style scoped>\n",
       "    .dataframe tbody tr th:only-of-type {\n",
       "        vertical-align: middle;\n",
       "    }\n",
       "\n",
       "    .dataframe tbody tr th {\n",
       "        vertical-align: top;\n",
       "    }\n",
       "\n",
       "    .dataframe thead th {\n",
       "        text-align: right;\n",
       "    }\n",
       "</style>\n",
       "<table border=\"1\" class=\"dataframe\">\n",
       "  <thead>\n",
       "    <tr style=\"text-align: right;\">\n",
       "      <th></th>\n",
       "      <th>Group</th>\n",
       "      <th>Draft Round</th>\n",
       "      <th>Starter 2+</th>\n",
       "      <th>PB Check</th>\n",
       "      <th>Players</th>\n",
       "    </tr>\n",
       "  </thead>\n",
       "  <tbody>\n",
       "    <tr>\n",
       "      <th>0</th>\n",
       "      <td>Special Teams</td>\n",
       "      <td>Round: 6</td>\n",
       "      <td>Starter for 2+ Yrs: No</td>\n",
       "      <td>Pro Bowls Made: None</td>\n",
       "      <td>2</td>\n",
       "    </tr>\n",
       "    <tr>\n",
       "      <th>1</th>\n",
       "      <td>Offense</td>\n",
       "      <td>Round: 1</td>\n",
       "      <td>Starter for 2+ Yrs: Yes</td>\n",
       "      <td>Pro Bowls Made: None</td>\n",
       "      <td>1</td>\n",
       "    </tr>\n",
       "    <tr>\n",
       "      <th>2</th>\n",
       "      <td>Offense</td>\n",
       "      <td>Round: 1</td>\n",
       "      <td>Starter for 2+ Yrs: Yes</td>\n",
       "      <td>Pro Bowls Made: Multiple</td>\n",
       "      <td>1</td>\n",
       "    </tr>\n",
       "    <tr>\n",
       "      <th>3</th>\n",
       "      <td>Offense</td>\n",
       "      <td>Round: 1</td>\n",
       "      <td>Starter for 2+ Yrs: No</td>\n",
       "      <td>Pro Bowls Made: None</td>\n",
       "      <td>1</td>\n",
       "    </tr>\n",
       "    <tr>\n",
       "      <th>4</th>\n",
       "      <td>Offense</td>\n",
       "      <td>Round: 2</td>\n",
       "      <td>Starter for 2+ Yrs: Yes</td>\n",
       "      <td>Pro Bowls Made: None</td>\n",
       "      <td>2</td>\n",
       "    </tr>\n",
       "    <tr>\n",
       "      <th>5</th>\n",
       "      <td>Offense</td>\n",
       "      <td>Round: 2</td>\n",
       "      <td>Starter for 2+ Yrs: Yes</td>\n",
       "      <td>Pro Bowls Made: Multiple</td>\n",
       "      <td>1</td>\n",
       "    </tr>\n",
       "    <tr>\n",
       "      <th>6</th>\n",
       "      <td>Offense</td>\n",
       "      <td>Round: 2</td>\n",
       "      <td>Starter for 2+ Yrs: No</td>\n",
       "      <td>Pro Bowls Made: None</td>\n",
       "      <td>2</td>\n",
       "    </tr>\n",
       "    <tr>\n",
       "      <th>7</th>\n",
       "      <td>Offense</td>\n",
       "      <td>Round: 3</td>\n",
       "      <td>Starter for 2+ Yrs: Yes</td>\n",
       "      <td>Pro Bowls Made: None</td>\n",
       "      <td>3</td>\n",
       "    </tr>\n",
       "    <tr>\n",
       "      <th>8</th>\n",
       "      <td>Offense</td>\n",
       "      <td>Round: 3</td>\n",
       "      <td>Starter for 2+ Yrs: Yes</td>\n",
       "      <td>Pro Bowls Made: One</td>\n",
       "      <td>1</td>\n",
       "    </tr>\n",
       "    <tr>\n",
       "      <th>9</th>\n",
       "      <td>Offense</td>\n",
       "      <td>Round: 3</td>\n",
       "      <td>Starter for 2+ Yrs: No</td>\n",
       "      <td>Pro Bowls Made: None</td>\n",
       "      <td>1</td>\n",
       "    </tr>\n",
       "    <tr>\n",
       "      <th>10</th>\n",
       "      <td>Offense</td>\n",
       "      <td>Round: 4</td>\n",
       "      <td>Starter for 2+ Yrs: Yes</td>\n",
       "      <td>Pro Bowls Made: None</td>\n",
       "      <td>1</td>\n",
       "    </tr>\n",
       "    <tr>\n",
       "      <th>11</th>\n",
       "      <td>Offense</td>\n",
       "      <td>Round: 4</td>\n",
       "      <td>Starter for 2+ Yrs: No</td>\n",
       "      <td>Pro Bowls Made: None</td>\n",
       "      <td>1</td>\n",
       "    </tr>\n",
       "    <tr>\n",
       "      <th>12</th>\n",
       "      <td>Offense</td>\n",
       "      <td>Round: 5</td>\n",
       "      <td>Starter for 2+ Yrs: Yes</td>\n",
       "      <td>Pro Bowls Made: Multiple</td>\n",
       "      <td>1</td>\n",
       "    </tr>\n",
       "    <tr>\n",
       "      <th>13</th>\n",
       "      <td>Offense</td>\n",
       "      <td>Round: 5</td>\n",
       "      <td>Starter for 2+ Yrs: No</td>\n",
       "      <td>Pro Bowls Made: None</td>\n",
       "      <td>5</td>\n",
       "    </tr>\n",
       "    <tr>\n",
       "      <th>14</th>\n",
       "      <td>Offense</td>\n",
       "      <td>Round: 6</td>\n",
       "      <td>Starter for 2+ Yrs: Yes</td>\n",
       "      <td>Pro Bowls Made: None</td>\n",
       "      <td>1</td>\n",
       "    </tr>\n",
       "    <tr>\n",
       "      <th>15</th>\n",
       "      <td>Offense</td>\n",
       "      <td>Round: 6</td>\n",
       "      <td>Starter for 2+ Yrs: No</td>\n",
       "      <td>Pro Bowls Made: None</td>\n",
       "      <td>3</td>\n",
       "    </tr>\n",
       "    <tr>\n",
       "      <th>16</th>\n",
       "      <td>Offense</td>\n",
       "      <td>Round: 7</td>\n",
       "      <td>Starter for 2+ Yrs: Yes</td>\n",
       "      <td>Pro Bowls Made: None</td>\n",
       "      <td>1</td>\n",
       "    </tr>\n",
       "    <tr>\n",
       "      <th>17</th>\n",
       "      <td>Offense</td>\n",
       "      <td>Round: 7</td>\n",
       "      <td>Starter for 2+ Yrs: No</td>\n",
       "      <td>Pro Bowls Made: None</td>\n",
       "      <td>4</td>\n",
       "    </tr>\n",
       "    <tr>\n",
       "      <th>18</th>\n",
       "      <td>Defense</td>\n",
       "      <td>Round: 1</td>\n",
       "      <td>Starter for 2+ Yrs: Yes</td>\n",
       "      <td>Pro Bowls Made: None</td>\n",
       "      <td>1</td>\n",
       "    </tr>\n",
       "    <tr>\n",
       "      <th>19</th>\n",
       "      <td>Defense</td>\n",
       "      <td>Round: 1</td>\n",
       "      <td>Starter for 2+ Yrs: Yes</td>\n",
       "      <td>Pro Bowls Made: Multiple</td>\n",
       "      <td>2</td>\n",
       "    </tr>\n",
       "    <tr>\n",
       "      <th>20</th>\n",
       "      <td>Defense</td>\n",
       "      <td>Round: 1</td>\n",
       "      <td>Starter for 2+ Yrs: No</td>\n",
       "      <td>Pro Bowls Made: None</td>\n",
       "      <td>1</td>\n",
       "    </tr>\n",
       "    <tr>\n",
       "      <th>21</th>\n",
       "      <td>Defense</td>\n",
       "      <td>Round: 2</td>\n",
       "      <td>Starter for 2+ Yrs: Yes</td>\n",
       "      <td>Pro Bowls Made: None</td>\n",
       "      <td>3</td>\n",
       "    </tr>\n",
       "    <tr>\n",
       "      <th>22</th>\n",
       "      <td>Defense</td>\n",
       "      <td>Round: 2</td>\n",
       "      <td>Starter for 2+ Yrs: No</td>\n",
       "      <td>Pro Bowls Made: None</td>\n",
       "      <td>1</td>\n",
       "    </tr>\n",
       "    <tr>\n",
       "      <th>23</th>\n",
       "      <td>Defense</td>\n",
       "      <td>Round: 3</td>\n",
       "      <td>Starter for 2+ Yrs: Yes</td>\n",
       "      <td>Pro Bowls Made: None</td>\n",
       "      <td>2</td>\n",
       "    </tr>\n",
       "    <tr>\n",
       "      <th>24</th>\n",
       "      <td>Defense</td>\n",
       "      <td>Round: 3</td>\n",
       "      <td>Starter for 2+ Yrs: No</td>\n",
       "      <td>Pro Bowls Made: None</td>\n",
       "      <td>1</td>\n",
       "    </tr>\n",
       "    <tr>\n",
       "      <th>25</th>\n",
       "      <td>Defense</td>\n",
       "      <td>Round: 4</td>\n",
       "      <td>Starter for 2+ Yrs: Yes</td>\n",
       "      <td>Pro Bowls Made: None</td>\n",
       "      <td>2</td>\n",
       "    </tr>\n",
       "    <tr>\n",
       "      <th>26</th>\n",
       "      <td>Defense</td>\n",
       "      <td>Round: 4</td>\n",
       "      <td>Starter for 2+ Yrs: No</td>\n",
       "      <td>Pro Bowls Made: None</td>\n",
       "      <td>1</td>\n",
       "    </tr>\n",
       "    <tr>\n",
       "      <th>27</th>\n",
       "      <td>Defense</td>\n",
       "      <td>Round: 5</td>\n",
       "      <td>Starter for 2+ Yrs: Yes</td>\n",
       "      <td>Pro Bowls Made: One</td>\n",
       "      <td>1</td>\n",
       "    </tr>\n",
       "    <tr>\n",
       "      <th>28</th>\n",
       "      <td>Defense</td>\n",
       "      <td>Round: 5</td>\n",
       "      <td>Starter for 2+ Yrs: No</td>\n",
       "      <td>Pro Bowls Made: None</td>\n",
       "      <td>3</td>\n",
       "    </tr>\n",
       "    <tr>\n",
       "      <th>29</th>\n",
       "      <td>Defense</td>\n",
       "      <td>Round: 6</td>\n",
       "      <td>Starter for 2+ Yrs: No</td>\n",
       "      <td>Pro Bowls Made: None</td>\n",
       "      <td>4</td>\n",
       "    </tr>\n",
       "    <tr>\n",
       "      <th>30</th>\n",
       "      <td>Defense</td>\n",
       "      <td>Round: 7</td>\n",
       "      <td>Starter for 2+ Yrs: No</td>\n",
       "      <td>Pro Bowls Made: None</td>\n",
       "      <td>3</td>\n",
       "    </tr>\n",
       "  </tbody>\n",
       "</table>\n",
       "</div>"
      ],
      "text/plain": [
       "            Group Draft Round               Starter 2+  \\\n",
       "0   Special Teams    Round: 6   Starter for 2+ Yrs: No   \n",
       "1         Offense    Round: 1  Starter for 2+ Yrs: Yes   \n",
       "2         Offense    Round: 1  Starter for 2+ Yrs: Yes   \n",
       "3         Offense    Round: 1   Starter for 2+ Yrs: No   \n",
       "4         Offense    Round: 2  Starter for 2+ Yrs: Yes   \n",
       "5         Offense    Round: 2  Starter for 2+ Yrs: Yes   \n",
       "6         Offense    Round: 2   Starter for 2+ Yrs: No   \n",
       "7         Offense    Round: 3  Starter for 2+ Yrs: Yes   \n",
       "8         Offense    Round: 3  Starter for 2+ Yrs: Yes   \n",
       "9         Offense    Round: 3   Starter for 2+ Yrs: No   \n",
       "10        Offense    Round: 4  Starter for 2+ Yrs: Yes   \n",
       "11        Offense    Round: 4   Starter for 2+ Yrs: No   \n",
       "12        Offense    Round: 5  Starter for 2+ Yrs: Yes   \n",
       "13        Offense    Round: 5   Starter for 2+ Yrs: No   \n",
       "14        Offense    Round: 6  Starter for 2+ Yrs: Yes   \n",
       "15        Offense    Round: 6   Starter for 2+ Yrs: No   \n",
       "16        Offense    Round: 7  Starter for 2+ Yrs: Yes   \n",
       "17        Offense    Round: 7   Starter for 2+ Yrs: No   \n",
       "18        Defense    Round: 1  Starter for 2+ Yrs: Yes   \n",
       "19        Defense    Round: 1  Starter for 2+ Yrs: Yes   \n",
       "20        Defense    Round: 1   Starter for 2+ Yrs: No   \n",
       "21        Defense    Round: 2  Starter for 2+ Yrs: Yes   \n",
       "22        Defense    Round: 2   Starter for 2+ Yrs: No   \n",
       "23        Defense    Round: 3  Starter for 2+ Yrs: Yes   \n",
       "24        Defense    Round: 3   Starter for 2+ Yrs: No   \n",
       "25        Defense    Round: 4  Starter for 2+ Yrs: Yes   \n",
       "26        Defense    Round: 4   Starter for 2+ Yrs: No   \n",
       "27        Defense    Round: 5  Starter for 2+ Yrs: Yes   \n",
       "28        Defense    Round: 5   Starter for 2+ Yrs: No   \n",
       "29        Defense    Round: 6   Starter for 2+ Yrs: No   \n",
       "30        Defense    Round: 7   Starter for 2+ Yrs: No   \n",
       "\n",
       "                    PB Check  Players  \n",
       "0       Pro Bowls Made: None        2  \n",
       "1       Pro Bowls Made: None        1  \n",
       "2   Pro Bowls Made: Multiple        1  \n",
       "3       Pro Bowls Made: None        1  \n",
       "4       Pro Bowls Made: None        2  \n",
       "5   Pro Bowls Made: Multiple        1  \n",
       "6       Pro Bowls Made: None        2  \n",
       "7       Pro Bowls Made: None        3  \n",
       "8        Pro Bowls Made: One        1  \n",
       "9       Pro Bowls Made: None        1  \n",
       "10      Pro Bowls Made: None        1  \n",
       "11      Pro Bowls Made: None        1  \n",
       "12  Pro Bowls Made: Multiple        1  \n",
       "13      Pro Bowls Made: None        5  \n",
       "14      Pro Bowls Made: None        1  \n",
       "15      Pro Bowls Made: None        3  \n",
       "16      Pro Bowls Made: None        1  \n",
       "17      Pro Bowls Made: None        4  \n",
       "18      Pro Bowls Made: None        1  \n",
       "19  Pro Bowls Made: Multiple        2  \n",
       "20      Pro Bowls Made: None        1  \n",
       "21      Pro Bowls Made: None        3  \n",
       "22      Pro Bowls Made: None        1  \n",
       "23      Pro Bowls Made: None        2  \n",
       "24      Pro Bowls Made: None        1  \n",
       "25      Pro Bowls Made: None        2  \n",
       "26      Pro Bowls Made: None        1  \n",
       "27       Pro Bowls Made: One        1  \n",
       "28      Pro Bowls Made: None        3  \n",
       "29      Pro Bowls Made: None        4  \n",
       "30      Pro Bowls Made: None        3  "
      ]
     },
     "execution_count": 3,
     "metadata": {},
     "output_type": "execute_result"
    }
   ],
   "source": [
    "# Upload your data as CSV to load as a DataFrame\n",
    "df = pd.read_csv(\"C:\\\\Users\\\\nickp\\\\OneDrive\\\\Desktop\\\\Home Data Projects\\\\Viz\\\\NFL\\\\Bills Draft\\\\billsDraftsSimple.csv\")\n",
    "df['Group'] = df['Group'].astype(str)\n",
    "df['Draft Round'] = df['Draft Round'].astype(str)\n",
    "df['Starter 2+'] = df['Starter 2+'].astype(str)\n",
    "df['PB Check'] = df['PB Check'].astype(str)\n",
    "df = df.rename(columns={'Count of Player':'Players'})\n",
    "print(df.dtypes)\n",
    "df"
   ]
  },
  {
   "cell_type": "code",
   "execution_count": 9,
   "id": "f5051980",
   "metadata": {},
   "outputs": [],
   "source": [
    "# set graph's structural elements\n",
    "cols = [\"Group\", \"Draft Round\",\"Starter 2+\",\"PB Check\"]\n",
    "value = \"Players\"\n",
    "title = \"<b>Bills Draft Picks: 2013 - 2020</b>\"\n",
    "width, height = 1100,600  # Set plot's width and height\n",
    "fontsize = 12\n",
    "fontfamily = \"Arial\"\n",
    "link_opacity = 0.3\n",
    "bgcolor = \"White\"  # Set the plot's background color (use color name or hex code)\n",
    "node_colors = px.colors.qualitative.G10"
   ]
  },
  {
   "cell_type": "code",
   "execution_count": 10,
   "id": "3c0bb761",
   "metadata": {},
   "outputs": [],
   "source": [
    "# set up labels and colors\n",
    "s = []\n",
    "t = []\n",
    "v = []\n",
    "labels = np.unique(df[cols].values)  # Collect all the node labels\n",
    "# Get all the links between two nodes in the data and their corresponding values\n",
    "for c in range(len(cols) - 1):\n",
    "    s.extend(df[cols[c]].tolist())\n",
    "    t.extend(df[cols[c + 1]].tolist())\n",
    "    v.extend(df[value].tolist())\n",
    "links = pd.DataFrame({\"source\": s, \"target\": t, \"value\": v})  \n",
    "links = links.groupby([\"source\", \"target\"], as_index=False).agg({\"value\": \"sum\"})\n",
    "\n",
    "# Convert list of colors to RGB format to override default gray link colors\n",
    "colors = [matplotlib.colors.to_rgb(i) for i in node_colors]  \n",
    "\n",
    "# Create objects to hold node/label and link colors\n",
    "label_colors, links[\"link_c\"] = [], 0"
   ]
  },
  {
   "cell_type": "code",
   "execution_count": 11,
   "id": "894f24f8",
   "metadata": {},
   "outputs": [],
   "source": [
    "# Loop through all the labels to specify color and to use label indices\n",
    "c, max_colors = 0, len(colors)  # To loop through the colors array\n",
    "for l in range(len(labels)):\n",
    "    label_colors.append(colors[c])\n",
    "    link_color = colors[c] + (link_opacity,)  # Make link more transparent than the node\n",
    "    links.loc[links.source == labels[l], [\"link_c\"]] = \"rgba\" + str(link_color)\n",
    "    links = links.replace({labels[l]: l})  # Replace node labels with the label's index\n",
    "    if c == max_colors - 1:\n",
    "        c = 0\n",
    "    else:\n",
    "        c += 1\n",
    "\n",
    "# Convert colors into RGB string format for Plotly\n",
    "label_colors = [\"rgb\" + str(i) for i in label_colors]"
   ]
  },
  {
   "cell_type": "code",
   "execution_count": 13,
   "id": "b3536076",
   "metadata": {},
   "outputs": [
    {
     "data": {
      "application/vnd.plotly.v1+json": {
       "config": {
        "plotlyServerURL": "https://plot.ly"
       },
       "data": [
        {
         "link": {
          "color": [
           "rgba(0.2, 0.4, 0.8, 0.3)",
           "rgba(0.2, 0.4, 0.8, 0.3)",
           "rgba(0.2, 0.4, 0.8, 0.3)",
           "rgba(0.2, 0.4, 0.8, 0.3)",
           "rgba(0.2, 0.4, 0.8, 0.3)",
           "rgba(0.2, 0.4, 0.8, 0.3)",
           "rgba(0.2, 0.4, 0.8, 0.3)",
           "rgba(0.8627450980392157, 0.2235294117647059, 0.07058823529411765, 0.3)",
           "rgba(0.8627450980392157, 0.2235294117647059, 0.07058823529411765, 0.3)",
           "rgba(0.8627450980392157, 0.2235294117647059, 0.07058823529411765, 0.3)",
           "rgba(0.8627450980392157, 0.2235294117647059, 0.07058823529411765, 0.3)",
           "rgba(0.8627450980392157, 0.2235294117647059, 0.07058823529411765, 0.3)",
           "rgba(0.8627450980392157, 0.2235294117647059, 0.07058823529411765, 0.3)",
           "rgba(0.8627450980392157, 0.2235294117647059, 0.07058823529411765, 0.3)",
           "rgba(0.0, 0.6, 0.7764705882352941, 0.3)",
           "rgba(0.0, 0.6, 0.7764705882352941, 0.3)",
           "rgba(0.8666666666666667, 0.26666666666666666, 0.4666666666666667, 0.3)",
           "rgba(0.8666666666666667, 0.26666666666666666, 0.4666666666666667, 0.3)",
           "rgba(0.4, 0.6666666666666666, 0.0, 0.3)",
           "rgba(0.4, 0.6666666666666666, 0.0, 0.3)",
           "rgba(0.7215686274509804, 0.1803921568627451, 0.1803921568627451, 0.3)",
           "rgba(0.7215686274509804, 0.1803921568627451, 0.1803921568627451, 0.3)",
           "rgba(0.19215686274509805, 0.38823529411764707, 0.5843137254901961, 0.3)",
           "rgba(0.19215686274509805, 0.38823529411764707, 0.5843137254901961, 0.3)",
           "rgba(0.2, 0.4, 0.8, 0.3)",
           "rgba(0.2, 0.4, 0.8, 0.3)",
           "rgba(0.8627450980392157, 0.2235294117647059, 0.07058823529411765, 0.3)",
           "rgba(0.8627450980392157, 0.2235294117647059, 0.07058823529411765, 0.3)",
           "rgba(1.0, 0.6, 0.0, 0.3)",
           "rgba(0.06274509803921569, 0.5882352941176471, 0.09411764705882353, 0.3)",
           "rgba(0.6, 0.0, 0.6, 0.3)",
           "rgba(0.6, 0.0, 0.6, 0.3)",
           "rgba(0.6, 0.0, 0.6, 0.3)"
          ],
          "source": [
           0,
           0,
           0,
           0,
           0,
           0,
           0,
           1,
           1,
           1,
           1,
           1,
           1,
           1,
           5,
           5,
           6,
           6,
           7,
           7,
           8,
           8,
           9,
           9,
           10,
           10,
           11,
           11,
           12,
           13,
           14,
           14,
           14
          ],
          "target": [
           5,
           6,
           7,
           8,
           9,
           10,
           11,
           5,
           6,
           7,
           8,
           9,
           10,
           11,
           13,
           14,
           13,
           14,
           13,
           14,
           13,
           14,
           13,
           14,
           13,
           14,
           13,
           14,
           10,
           3,
           2,
           3,
           4
          ],
          "value": [
           4,
           4,
           3,
           3,
           4,
           4,
           3,
           3,
           5,
           5,
           2,
           6,
           4,
           5,
           2,
           5,
           3,
           6,
           2,
           6,
           2,
           3,
           8,
           2,
           9,
           1,
           7,
           1,
           2,
           33,
           5,
           17,
           2
          ]
         },
         "node": {
          "color": [
           "rgb(0.2, 0.4, 0.8)",
           "rgb(0.8627450980392157, 0.2235294117647059, 0.07058823529411765)",
           "rgb(1.0, 0.6, 0.0)",
           "rgb(0.06274509803921569, 0.5882352941176471, 0.09411764705882353)",
           "rgb(0.6, 0.0, 0.6)",
           "rgb(0.0, 0.6, 0.7764705882352941)",
           "rgb(0.8666666666666667, 0.26666666666666666, 0.4666666666666667)",
           "rgb(0.4, 0.6666666666666666, 0.0)",
           "rgb(0.7215686274509804, 0.1803921568627451, 0.1803921568627451)",
           "rgb(0.19215686274509805, 0.38823529411764707, 0.5843137254901961)",
           "rgb(0.2, 0.4, 0.8)",
           "rgb(0.8627450980392157, 0.2235294117647059, 0.07058823529411765)",
           "rgb(1.0, 0.6, 0.0)",
           "rgb(0.06274509803921569, 0.5882352941176471, 0.09411764705882353)",
           "rgb(0.6, 0.0, 0.6)"
          ],
          "label": [
           "Defense",
           "Offense",
           "Pro Bowls Made: Multiple",
           "Pro Bowls Made: None",
           "Pro Bowls Made: One",
           "Round: 1",
           "Round: 2",
           "Round: 3",
           "Round: 4",
           "Round: 5",
           "Round: 6",
           "Round: 7",
           "Special Teams",
           "Starter for 2+ Yrs: No",
           "Starter for 2+ Yrs: Yes"
          ]
         },
         "type": "sankey"
        }
       ],
       "layout": {
        "font": {
         "family": "Arial",
         "size": 12
        },
        "height": 600,
        "paper_bgcolor": "White",
        "template": {
         "data": {
          "bar": [
           {
            "error_x": {
             "color": "#2a3f5f"
            },
            "error_y": {
             "color": "#2a3f5f"
            },
            "marker": {
             "line": {
              "color": "#E5ECF6",
              "width": 0.5
             }
            },
            "type": "bar"
           }
          ],
          "barpolar": [
           {
            "marker": {
             "line": {
              "color": "#E5ECF6",
              "width": 0.5
             }
            },
            "type": "barpolar"
           }
          ],
          "carpet": [
           {
            "aaxis": {
             "endlinecolor": "#2a3f5f",
             "gridcolor": "white",
             "linecolor": "white",
             "minorgridcolor": "white",
             "startlinecolor": "#2a3f5f"
            },
            "baxis": {
             "endlinecolor": "#2a3f5f",
             "gridcolor": "white",
             "linecolor": "white",
             "minorgridcolor": "white",
             "startlinecolor": "#2a3f5f"
            },
            "type": "carpet"
           }
          ],
          "choropleth": [
           {
            "colorbar": {
             "outlinewidth": 0,
             "ticks": ""
            },
            "type": "choropleth"
           }
          ],
          "contour": [
           {
            "colorbar": {
             "outlinewidth": 0,
             "ticks": ""
            },
            "colorscale": [
             [
              0,
              "#0d0887"
             ],
             [
              0.1111111111111111,
              "#46039f"
             ],
             [
              0.2222222222222222,
              "#7201a8"
             ],
             [
              0.3333333333333333,
              "#9c179e"
             ],
             [
              0.4444444444444444,
              "#bd3786"
             ],
             [
              0.5555555555555556,
              "#d8576b"
             ],
             [
              0.6666666666666666,
              "#ed7953"
             ],
             [
              0.7777777777777778,
              "#fb9f3a"
             ],
             [
              0.8888888888888888,
              "#fdca26"
             ],
             [
              1,
              "#f0f921"
             ]
            ],
            "type": "contour"
           }
          ],
          "contourcarpet": [
           {
            "colorbar": {
             "outlinewidth": 0,
             "ticks": ""
            },
            "type": "contourcarpet"
           }
          ],
          "heatmap": [
           {
            "colorbar": {
             "outlinewidth": 0,
             "ticks": ""
            },
            "colorscale": [
             [
              0,
              "#0d0887"
             ],
             [
              0.1111111111111111,
              "#46039f"
             ],
             [
              0.2222222222222222,
              "#7201a8"
             ],
             [
              0.3333333333333333,
              "#9c179e"
             ],
             [
              0.4444444444444444,
              "#bd3786"
             ],
             [
              0.5555555555555556,
              "#d8576b"
             ],
             [
              0.6666666666666666,
              "#ed7953"
             ],
             [
              0.7777777777777778,
              "#fb9f3a"
             ],
             [
              0.8888888888888888,
              "#fdca26"
             ],
             [
              1,
              "#f0f921"
             ]
            ],
            "type": "heatmap"
           }
          ],
          "heatmapgl": [
           {
            "colorbar": {
             "outlinewidth": 0,
             "ticks": ""
            },
            "colorscale": [
             [
              0,
              "#0d0887"
             ],
             [
              0.1111111111111111,
              "#46039f"
             ],
             [
              0.2222222222222222,
              "#7201a8"
             ],
             [
              0.3333333333333333,
              "#9c179e"
             ],
             [
              0.4444444444444444,
              "#bd3786"
             ],
             [
              0.5555555555555556,
              "#d8576b"
             ],
             [
              0.6666666666666666,
              "#ed7953"
             ],
             [
              0.7777777777777778,
              "#fb9f3a"
             ],
             [
              0.8888888888888888,
              "#fdca26"
             ],
             [
              1,
              "#f0f921"
             ]
            ],
            "type": "heatmapgl"
           }
          ],
          "histogram": [
           {
            "marker": {
             "colorbar": {
              "outlinewidth": 0,
              "ticks": ""
             }
            },
            "type": "histogram"
           }
          ],
          "histogram2d": [
           {
            "colorbar": {
             "outlinewidth": 0,
             "ticks": ""
            },
            "colorscale": [
             [
              0,
              "#0d0887"
             ],
             [
              0.1111111111111111,
              "#46039f"
             ],
             [
              0.2222222222222222,
              "#7201a8"
             ],
             [
              0.3333333333333333,
              "#9c179e"
             ],
             [
              0.4444444444444444,
              "#bd3786"
             ],
             [
              0.5555555555555556,
              "#d8576b"
             ],
             [
              0.6666666666666666,
              "#ed7953"
             ],
             [
              0.7777777777777778,
              "#fb9f3a"
             ],
             [
              0.8888888888888888,
              "#fdca26"
             ],
             [
              1,
              "#f0f921"
             ]
            ],
            "type": "histogram2d"
           }
          ],
          "histogram2dcontour": [
           {
            "colorbar": {
             "outlinewidth": 0,
             "ticks": ""
            },
            "colorscale": [
             [
              0,
              "#0d0887"
             ],
             [
              0.1111111111111111,
              "#46039f"
             ],
             [
              0.2222222222222222,
              "#7201a8"
             ],
             [
              0.3333333333333333,
              "#9c179e"
             ],
             [
              0.4444444444444444,
              "#bd3786"
             ],
             [
              0.5555555555555556,
              "#d8576b"
             ],
             [
              0.6666666666666666,
              "#ed7953"
             ],
             [
              0.7777777777777778,
              "#fb9f3a"
             ],
             [
              0.8888888888888888,
              "#fdca26"
             ],
             [
              1,
              "#f0f921"
             ]
            ],
            "type": "histogram2dcontour"
           }
          ],
          "mesh3d": [
           {
            "colorbar": {
             "outlinewidth": 0,
             "ticks": ""
            },
            "type": "mesh3d"
           }
          ],
          "parcoords": [
           {
            "line": {
             "colorbar": {
              "outlinewidth": 0,
              "ticks": ""
             }
            },
            "type": "parcoords"
           }
          ],
          "pie": [
           {
            "automargin": true,
            "type": "pie"
           }
          ],
          "scatter": [
           {
            "marker": {
             "colorbar": {
              "outlinewidth": 0,
              "ticks": ""
             }
            },
            "type": "scatter"
           }
          ],
          "scatter3d": [
           {
            "line": {
             "colorbar": {
              "outlinewidth": 0,
              "ticks": ""
             }
            },
            "marker": {
             "colorbar": {
              "outlinewidth": 0,
              "ticks": ""
             }
            },
            "type": "scatter3d"
           }
          ],
          "scattercarpet": [
           {
            "marker": {
             "colorbar": {
              "outlinewidth": 0,
              "ticks": ""
             }
            },
            "type": "scattercarpet"
           }
          ],
          "scattergeo": [
           {
            "marker": {
             "colorbar": {
              "outlinewidth": 0,
              "ticks": ""
             }
            },
            "type": "scattergeo"
           }
          ],
          "scattergl": [
           {
            "marker": {
             "colorbar": {
              "outlinewidth": 0,
              "ticks": ""
             }
            },
            "type": "scattergl"
           }
          ],
          "scattermapbox": [
           {
            "marker": {
             "colorbar": {
              "outlinewidth": 0,
              "ticks": ""
             }
            },
            "type": "scattermapbox"
           }
          ],
          "scatterpolar": [
           {
            "marker": {
             "colorbar": {
              "outlinewidth": 0,
              "ticks": ""
             }
            },
            "type": "scatterpolar"
           }
          ],
          "scatterpolargl": [
           {
            "marker": {
             "colorbar": {
              "outlinewidth": 0,
              "ticks": ""
             }
            },
            "type": "scatterpolargl"
           }
          ],
          "scatterternary": [
           {
            "marker": {
             "colorbar": {
              "outlinewidth": 0,
              "ticks": ""
             }
            },
            "type": "scatterternary"
           }
          ],
          "surface": [
           {
            "colorbar": {
             "outlinewidth": 0,
             "ticks": ""
            },
            "colorscale": [
             [
              0,
              "#0d0887"
             ],
             [
              0.1111111111111111,
              "#46039f"
             ],
             [
              0.2222222222222222,
              "#7201a8"
             ],
             [
              0.3333333333333333,
              "#9c179e"
             ],
             [
              0.4444444444444444,
              "#bd3786"
             ],
             [
              0.5555555555555556,
              "#d8576b"
             ],
             [
              0.6666666666666666,
              "#ed7953"
             ],
             [
              0.7777777777777778,
              "#fb9f3a"
             ],
             [
              0.8888888888888888,
              "#fdca26"
             ],
             [
              1,
              "#f0f921"
             ]
            ],
            "type": "surface"
           }
          ],
          "table": [
           {
            "cells": {
             "fill": {
              "color": "#EBF0F8"
             },
             "line": {
              "color": "white"
             }
            },
            "header": {
             "fill": {
              "color": "#C8D4E3"
             },
             "line": {
              "color": "white"
             }
            },
            "type": "table"
           }
          ]
         },
         "layout": {
          "annotationdefaults": {
           "arrowcolor": "#2a3f5f",
           "arrowhead": 0,
           "arrowwidth": 1
          },
          "autotypenumbers": "strict",
          "coloraxis": {
           "colorbar": {
            "outlinewidth": 0,
            "ticks": ""
           }
          },
          "colorscale": {
           "diverging": [
            [
             0,
             "#8e0152"
            ],
            [
             0.1,
             "#c51b7d"
            ],
            [
             0.2,
             "#de77ae"
            ],
            [
             0.3,
             "#f1b6da"
            ],
            [
             0.4,
             "#fde0ef"
            ],
            [
             0.5,
             "#f7f7f7"
            ],
            [
             0.6,
             "#e6f5d0"
            ],
            [
             0.7,
             "#b8e186"
            ],
            [
             0.8,
             "#7fbc41"
            ],
            [
             0.9,
             "#4d9221"
            ],
            [
             1,
             "#276419"
            ]
           ],
           "sequential": [
            [
             0,
             "#0d0887"
            ],
            [
             0.1111111111111111,
             "#46039f"
            ],
            [
             0.2222222222222222,
             "#7201a8"
            ],
            [
             0.3333333333333333,
             "#9c179e"
            ],
            [
             0.4444444444444444,
             "#bd3786"
            ],
            [
             0.5555555555555556,
             "#d8576b"
            ],
            [
             0.6666666666666666,
             "#ed7953"
            ],
            [
             0.7777777777777778,
             "#fb9f3a"
            ],
            [
             0.8888888888888888,
             "#fdca26"
            ],
            [
             1,
             "#f0f921"
            ]
           ],
           "sequentialminus": [
            [
             0,
             "#0d0887"
            ],
            [
             0.1111111111111111,
             "#46039f"
            ],
            [
             0.2222222222222222,
             "#7201a8"
            ],
            [
             0.3333333333333333,
             "#9c179e"
            ],
            [
             0.4444444444444444,
             "#bd3786"
            ],
            [
             0.5555555555555556,
             "#d8576b"
            ],
            [
             0.6666666666666666,
             "#ed7953"
            ],
            [
             0.7777777777777778,
             "#fb9f3a"
            ],
            [
             0.8888888888888888,
             "#fdca26"
            ],
            [
             1,
             "#f0f921"
            ]
           ]
          },
          "colorway": [
           "#636efa",
           "#EF553B",
           "#00cc96",
           "#ab63fa",
           "#FFA15A",
           "#19d3f3",
           "#FF6692",
           "#B6E880",
           "#FF97FF",
           "#FECB52"
          ],
          "font": {
           "color": "#2a3f5f"
          },
          "geo": {
           "bgcolor": "white",
           "lakecolor": "white",
           "landcolor": "#E5ECF6",
           "showlakes": true,
           "showland": true,
           "subunitcolor": "white"
          },
          "hoverlabel": {
           "align": "left"
          },
          "hovermode": "closest",
          "mapbox": {
           "style": "light"
          },
          "paper_bgcolor": "white",
          "plot_bgcolor": "#E5ECF6",
          "polar": {
           "angularaxis": {
            "gridcolor": "white",
            "linecolor": "white",
            "ticks": ""
           },
           "bgcolor": "#E5ECF6",
           "radialaxis": {
            "gridcolor": "white",
            "linecolor": "white",
            "ticks": ""
           }
          },
          "scene": {
           "xaxis": {
            "backgroundcolor": "#E5ECF6",
            "gridcolor": "white",
            "gridwidth": 2,
            "linecolor": "white",
            "showbackground": true,
            "ticks": "",
            "zerolinecolor": "white"
           },
           "yaxis": {
            "backgroundcolor": "#E5ECF6",
            "gridcolor": "white",
            "gridwidth": 2,
            "linecolor": "white",
            "showbackground": true,
            "ticks": "",
            "zerolinecolor": "white"
           },
           "zaxis": {
            "backgroundcolor": "#E5ECF6",
            "gridcolor": "white",
            "gridwidth": 2,
            "linecolor": "white",
            "showbackground": true,
            "ticks": "",
            "zerolinecolor": "white"
           }
          },
          "shapedefaults": {
           "line": {
            "color": "#2a3f5f"
           }
          },
          "ternary": {
           "aaxis": {
            "gridcolor": "white",
            "linecolor": "white",
            "ticks": ""
           },
           "baxis": {
            "gridcolor": "white",
            "linecolor": "white",
            "ticks": ""
           },
           "bgcolor": "#E5ECF6",
           "caxis": {
            "gridcolor": "white",
            "linecolor": "white",
            "ticks": ""
           }
          },
          "title": {
           "x": 0.05
          },
          "xaxis": {
           "automargin": true,
           "gridcolor": "white",
           "linecolor": "white",
           "ticks": "",
           "title": {
            "standoff": 15
           },
           "zerolinecolor": "white",
           "zerolinewidth": 2
          },
          "yaxis": {
           "automargin": true,
           "gridcolor": "white",
           "linecolor": "white",
           "ticks": "",
           "title": {
            "standoff": 15
           },
           "zerolinecolor": "white",
           "zerolinewidth": 2
          }
         }
        },
        "title": {
         "text": "<b>Bills Draft Picks: 2013 - 2020</b>",
         "x": 0.5,
         "xanchor": "left",
         "y": 0.9,
         "yanchor": "top"
        },
        "width": 1100
       }
      },
      "text/html": [
       "<div>                            <div id=\"54b596ae-b526-4071-b994-7a28ea12fe77\" class=\"plotly-graph-div\" style=\"height:600px; width:1100px;\"></div>            <script type=\"text/javascript\">                require([\"plotly\"], function(Plotly) {                    window.PLOTLYENV=window.PLOTLYENV || {};                                    if (document.getElementById(\"54b596ae-b526-4071-b994-7a28ea12fe77\")) {                    Plotly.newPlot(                        \"54b596ae-b526-4071-b994-7a28ea12fe77\",                        [{\"link\": {\"color\": [\"rgba(0.2, 0.4, 0.8, 0.3)\", \"rgba(0.2, 0.4, 0.8, 0.3)\", \"rgba(0.2, 0.4, 0.8, 0.3)\", \"rgba(0.2, 0.4, 0.8, 0.3)\", \"rgba(0.2, 0.4, 0.8, 0.3)\", \"rgba(0.2, 0.4, 0.8, 0.3)\", \"rgba(0.2, 0.4, 0.8, 0.3)\", \"rgba(0.8627450980392157, 0.2235294117647059, 0.07058823529411765, 0.3)\", \"rgba(0.8627450980392157, 0.2235294117647059, 0.07058823529411765, 0.3)\", \"rgba(0.8627450980392157, 0.2235294117647059, 0.07058823529411765, 0.3)\", \"rgba(0.8627450980392157, 0.2235294117647059, 0.07058823529411765, 0.3)\", \"rgba(0.8627450980392157, 0.2235294117647059, 0.07058823529411765, 0.3)\", \"rgba(0.8627450980392157, 0.2235294117647059, 0.07058823529411765, 0.3)\", \"rgba(0.8627450980392157, 0.2235294117647059, 0.07058823529411765, 0.3)\", \"rgba(0.0, 0.6, 0.7764705882352941, 0.3)\", \"rgba(0.0, 0.6, 0.7764705882352941, 0.3)\", \"rgba(0.8666666666666667, 0.26666666666666666, 0.4666666666666667, 0.3)\", \"rgba(0.8666666666666667, 0.26666666666666666, 0.4666666666666667, 0.3)\", \"rgba(0.4, 0.6666666666666666, 0.0, 0.3)\", \"rgba(0.4, 0.6666666666666666, 0.0, 0.3)\", \"rgba(0.7215686274509804, 0.1803921568627451, 0.1803921568627451, 0.3)\", \"rgba(0.7215686274509804, 0.1803921568627451, 0.1803921568627451, 0.3)\", \"rgba(0.19215686274509805, 0.38823529411764707, 0.5843137254901961, 0.3)\", \"rgba(0.19215686274509805, 0.38823529411764707, 0.5843137254901961, 0.3)\", \"rgba(0.2, 0.4, 0.8, 0.3)\", \"rgba(0.2, 0.4, 0.8, 0.3)\", \"rgba(0.8627450980392157, 0.2235294117647059, 0.07058823529411765, 0.3)\", \"rgba(0.8627450980392157, 0.2235294117647059, 0.07058823529411765, 0.3)\", \"rgba(1.0, 0.6, 0.0, 0.3)\", \"rgba(0.06274509803921569, 0.5882352941176471, 0.09411764705882353, 0.3)\", \"rgba(0.6, 0.0, 0.6, 0.3)\", \"rgba(0.6, 0.0, 0.6, 0.3)\", \"rgba(0.6, 0.0, 0.6, 0.3)\"], \"source\": [0, 0, 0, 0, 0, 0, 0, 1, 1, 1, 1, 1, 1, 1, 5, 5, 6, 6, 7, 7, 8, 8, 9, 9, 10, 10, 11, 11, 12, 13, 14, 14, 14], \"target\": [5, 6, 7, 8, 9, 10, 11, 5, 6, 7, 8, 9, 10, 11, 13, 14, 13, 14, 13, 14, 13, 14, 13, 14, 13, 14, 13, 14, 10, 3, 2, 3, 4], \"value\": [4, 4, 3, 3, 4, 4, 3, 3, 5, 5, 2, 6, 4, 5, 2, 5, 3, 6, 2, 6, 2, 3, 8, 2, 9, 1, 7, 1, 2, 33, 5, 17, 2]}, \"node\": {\"color\": [\"rgb(0.2, 0.4, 0.8)\", \"rgb(0.8627450980392157, 0.2235294117647059, 0.07058823529411765)\", \"rgb(1.0, 0.6, 0.0)\", \"rgb(0.06274509803921569, 0.5882352941176471, 0.09411764705882353)\", \"rgb(0.6, 0.0, 0.6)\", \"rgb(0.0, 0.6, 0.7764705882352941)\", \"rgb(0.8666666666666667, 0.26666666666666666, 0.4666666666666667)\", \"rgb(0.4, 0.6666666666666666, 0.0)\", \"rgb(0.7215686274509804, 0.1803921568627451, 0.1803921568627451)\", \"rgb(0.19215686274509805, 0.38823529411764707, 0.5843137254901961)\", \"rgb(0.2, 0.4, 0.8)\", \"rgb(0.8627450980392157, 0.2235294117647059, 0.07058823529411765)\", \"rgb(1.0, 0.6, 0.0)\", \"rgb(0.06274509803921569, 0.5882352941176471, 0.09411764705882353)\", \"rgb(0.6, 0.0, 0.6)\"], \"label\": [\"Defense\", \"Offense\", \"Pro Bowls Made: Multiple\", \"Pro Bowls Made: None\", \"Pro Bowls Made: One\", \"Round: 1\", \"Round: 2\", \"Round: 3\", \"Round: 4\", \"Round: 5\", \"Round: 6\", \"Round: 7\", \"Special Teams\", \"Starter for 2+ Yrs: No\", \"Starter for 2+ Yrs: Yes\"]}, \"type\": \"sankey\"}],                        {\"font\": {\"family\": \"Arial\", \"size\": 12}, \"height\": 600, \"paper_bgcolor\": \"White\", \"template\": {\"data\": {\"bar\": [{\"error_x\": {\"color\": \"#2a3f5f\"}, \"error_y\": {\"color\": \"#2a3f5f\"}, \"marker\": {\"line\": {\"color\": \"#E5ECF6\", \"width\": 0.5}}, \"type\": \"bar\"}], \"barpolar\": [{\"marker\": {\"line\": {\"color\": \"#E5ECF6\", \"width\": 0.5}}, \"type\": \"barpolar\"}], \"carpet\": [{\"aaxis\": {\"endlinecolor\": \"#2a3f5f\", \"gridcolor\": \"white\", \"linecolor\": \"white\", \"minorgridcolor\": \"white\", \"startlinecolor\": \"#2a3f5f\"}, \"baxis\": {\"endlinecolor\": \"#2a3f5f\", \"gridcolor\": \"white\", \"linecolor\": \"white\", \"minorgridcolor\": \"white\", \"startlinecolor\": \"#2a3f5f\"}, \"type\": \"carpet\"}], \"choropleth\": [{\"colorbar\": {\"outlinewidth\": 0, \"ticks\": \"\"}, \"type\": \"choropleth\"}], \"contour\": [{\"colorbar\": {\"outlinewidth\": 0, \"ticks\": \"\"}, \"colorscale\": [[0.0, \"#0d0887\"], [0.1111111111111111, \"#46039f\"], [0.2222222222222222, \"#7201a8\"], [0.3333333333333333, \"#9c179e\"], [0.4444444444444444, \"#bd3786\"], [0.5555555555555556, \"#d8576b\"], [0.6666666666666666, \"#ed7953\"], [0.7777777777777778, \"#fb9f3a\"], [0.8888888888888888, \"#fdca26\"], [1.0, \"#f0f921\"]], \"type\": \"contour\"}], \"contourcarpet\": [{\"colorbar\": {\"outlinewidth\": 0, \"ticks\": \"\"}, \"type\": \"contourcarpet\"}], \"heatmap\": [{\"colorbar\": {\"outlinewidth\": 0, \"ticks\": \"\"}, \"colorscale\": [[0.0, \"#0d0887\"], [0.1111111111111111, \"#46039f\"], [0.2222222222222222, \"#7201a8\"], [0.3333333333333333, \"#9c179e\"], [0.4444444444444444, \"#bd3786\"], [0.5555555555555556, \"#d8576b\"], [0.6666666666666666, \"#ed7953\"], [0.7777777777777778, \"#fb9f3a\"], [0.8888888888888888, \"#fdca26\"], [1.0, \"#f0f921\"]], \"type\": \"heatmap\"}], \"heatmapgl\": [{\"colorbar\": {\"outlinewidth\": 0, \"ticks\": \"\"}, \"colorscale\": [[0.0, \"#0d0887\"], [0.1111111111111111, \"#46039f\"], [0.2222222222222222, \"#7201a8\"], [0.3333333333333333, \"#9c179e\"], [0.4444444444444444, \"#bd3786\"], [0.5555555555555556, \"#d8576b\"], [0.6666666666666666, \"#ed7953\"], [0.7777777777777778, \"#fb9f3a\"], [0.8888888888888888, \"#fdca26\"], [1.0, \"#f0f921\"]], \"type\": \"heatmapgl\"}], \"histogram\": [{\"marker\": {\"colorbar\": {\"outlinewidth\": 0, \"ticks\": \"\"}}, \"type\": \"histogram\"}], \"histogram2d\": [{\"colorbar\": {\"outlinewidth\": 0, \"ticks\": \"\"}, \"colorscale\": [[0.0, \"#0d0887\"], [0.1111111111111111, \"#46039f\"], [0.2222222222222222, \"#7201a8\"], [0.3333333333333333, \"#9c179e\"], [0.4444444444444444, \"#bd3786\"], [0.5555555555555556, \"#d8576b\"], [0.6666666666666666, \"#ed7953\"], [0.7777777777777778, \"#fb9f3a\"], [0.8888888888888888, \"#fdca26\"], [1.0, \"#f0f921\"]], \"type\": \"histogram2d\"}], \"histogram2dcontour\": [{\"colorbar\": {\"outlinewidth\": 0, \"ticks\": \"\"}, \"colorscale\": [[0.0, \"#0d0887\"], [0.1111111111111111, \"#46039f\"], [0.2222222222222222, \"#7201a8\"], [0.3333333333333333, \"#9c179e\"], [0.4444444444444444, \"#bd3786\"], [0.5555555555555556, \"#d8576b\"], [0.6666666666666666, \"#ed7953\"], [0.7777777777777778, \"#fb9f3a\"], [0.8888888888888888, \"#fdca26\"], [1.0, \"#f0f921\"]], \"type\": \"histogram2dcontour\"}], \"mesh3d\": [{\"colorbar\": {\"outlinewidth\": 0, \"ticks\": \"\"}, \"type\": \"mesh3d\"}], \"parcoords\": [{\"line\": {\"colorbar\": {\"outlinewidth\": 0, \"ticks\": \"\"}}, \"type\": \"parcoords\"}], \"pie\": [{\"automargin\": true, \"type\": \"pie\"}], \"scatter\": [{\"marker\": {\"colorbar\": {\"outlinewidth\": 0, \"ticks\": \"\"}}, \"type\": \"scatter\"}], \"scatter3d\": [{\"line\": {\"colorbar\": {\"outlinewidth\": 0, \"ticks\": \"\"}}, \"marker\": {\"colorbar\": {\"outlinewidth\": 0, \"ticks\": \"\"}}, \"type\": \"scatter3d\"}], \"scattercarpet\": [{\"marker\": {\"colorbar\": {\"outlinewidth\": 0, \"ticks\": \"\"}}, \"type\": \"scattercarpet\"}], \"scattergeo\": [{\"marker\": {\"colorbar\": {\"outlinewidth\": 0, \"ticks\": \"\"}}, \"type\": \"scattergeo\"}], \"scattergl\": [{\"marker\": {\"colorbar\": {\"outlinewidth\": 0, \"ticks\": \"\"}}, \"type\": \"scattergl\"}], \"scattermapbox\": [{\"marker\": {\"colorbar\": {\"outlinewidth\": 0, \"ticks\": \"\"}}, \"type\": \"scattermapbox\"}], \"scatterpolar\": [{\"marker\": {\"colorbar\": {\"outlinewidth\": 0, \"ticks\": \"\"}}, \"type\": \"scatterpolar\"}], \"scatterpolargl\": [{\"marker\": {\"colorbar\": {\"outlinewidth\": 0, \"ticks\": \"\"}}, \"type\": \"scatterpolargl\"}], \"scatterternary\": [{\"marker\": {\"colorbar\": {\"outlinewidth\": 0, \"ticks\": \"\"}}, \"type\": \"scatterternary\"}], \"surface\": [{\"colorbar\": {\"outlinewidth\": 0, \"ticks\": \"\"}, \"colorscale\": [[0.0, \"#0d0887\"], [0.1111111111111111, \"#46039f\"], [0.2222222222222222, \"#7201a8\"], [0.3333333333333333, \"#9c179e\"], [0.4444444444444444, \"#bd3786\"], [0.5555555555555556, \"#d8576b\"], [0.6666666666666666, \"#ed7953\"], [0.7777777777777778, \"#fb9f3a\"], [0.8888888888888888, \"#fdca26\"], [1.0, \"#f0f921\"]], \"type\": \"surface\"}], \"table\": [{\"cells\": {\"fill\": {\"color\": \"#EBF0F8\"}, \"line\": {\"color\": \"white\"}}, \"header\": {\"fill\": {\"color\": \"#C8D4E3\"}, \"line\": {\"color\": \"white\"}}, \"type\": \"table\"}]}, \"layout\": {\"annotationdefaults\": {\"arrowcolor\": \"#2a3f5f\", \"arrowhead\": 0, \"arrowwidth\": 1}, \"autotypenumbers\": \"strict\", \"coloraxis\": {\"colorbar\": {\"outlinewidth\": 0, \"ticks\": \"\"}}, \"colorscale\": {\"diverging\": [[0, \"#8e0152\"], [0.1, \"#c51b7d\"], [0.2, \"#de77ae\"], [0.3, \"#f1b6da\"], [0.4, \"#fde0ef\"], [0.5, \"#f7f7f7\"], [0.6, \"#e6f5d0\"], [0.7, \"#b8e186\"], [0.8, \"#7fbc41\"], [0.9, \"#4d9221\"], [1, \"#276419\"]], \"sequential\": [[0.0, \"#0d0887\"], [0.1111111111111111, \"#46039f\"], [0.2222222222222222, \"#7201a8\"], [0.3333333333333333, \"#9c179e\"], [0.4444444444444444, \"#bd3786\"], [0.5555555555555556, \"#d8576b\"], [0.6666666666666666, \"#ed7953\"], [0.7777777777777778, \"#fb9f3a\"], [0.8888888888888888, \"#fdca26\"], [1.0, \"#f0f921\"]], \"sequentialminus\": [[0.0, \"#0d0887\"], [0.1111111111111111, \"#46039f\"], [0.2222222222222222, \"#7201a8\"], [0.3333333333333333, \"#9c179e\"], [0.4444444444444444, \"#bd3786\"], [0.5555555555555556, \"#d8576b\"], [0.6666666666666666, \"#ed7953\"], [0.7777777777777778, \"#fb9f3a\"], [0.8888888888888888, \"#fdca26\"], [1.0, \"#f0f921\"]]}, \"colorway\": [\"#636efa\", \"#EF553B\", \"#00cc96\", \"#ab63fa\", \"#FFA15A\", \"#19d3f3\", \"#FF6692\", \"#B6E880\", \"#FF97FF\", \"#FECB52\"], \"font\": {\"color\": \"#2a3f5f\"}, \"geo\": {\"bgcolor\": \"white\", \"lakecolor\": \"white\", \"landcolor\": \"#E5ECF6\", \"showlakes\": true, \"showland\": true, \"subunitcolor\": \"white\"}, \"hoverlabel\": {\"align\": \"left\"}, \"hovermode\": \"closest\", \"mapbox\": {\"style\": \"light\"}, \"paper_bgcolor\": \"white\", \"plot_bgcolor\": \"#E5ECF6\", \"polar\": {\"angularaxis\": {\"gridcolor\": \"white\", \"linecolor\": \"white\", \"ticks\": \"\"}, \"bgcolor\": \"#E5ECF6\", \"radialaxis\": {\"gridcolor\": \"white\", \"linecolor\": \"white\", \"ticks\": \"\"}}, \"scene\": {\"xaxis\": {\"backgroundcolor\": \"#E5ECF6\", \"gridcolor\": \"white\", \"gridwidth\": 2, \"linecolor\": \"white\", \"showbackground\": true, \"ticks\": \"\", \"zerolinecolor\": \"white\"}, \"yaxis\": {\"backgroundcolor\": \"#E5ECF6\", \"gridcolor\": \"white\", \"gridwidth\": 2, \"linecolor\": \"white\", \"showbackground\": true, \"ticks\": \"\", \"zerolinecolor\": \"white\"}, \"zaxis\": {\"backgroundcolor\": \"#E5ECF6\", \"gridcolor\": \"white\", \"gridwidth\": 2, \"linecolor\": \"white\", \"showbackground\": true, \"ticks\": \"\", \"zerolinecolor\": \"white\"}}, \"shapedefaults\": {\"line\": {\"color\": \"#2a3f5f\"}}, \"ternary\": {\"aaxis\": {\"gridcolor\": \"white\", \"linecolor\": \"white\", \"ticks\": \"\"}, \"baxis\": {\"gridcolor\": \"white\", \"linecolor\": \"white\", \"ticks\": \"\"}, \"bgcolor\": \"#E5ECF6\", \"caxis\": {\"gridcolor\": \"white\", \"linecolor\": \"white\", \"ticks\": \"\"}}, \"title\": {\"x\": 0.05}, \"xaxis\": {\"automargin\": true, \"gridcolor\": \"white\", \"linecolor\": \"white\", \"ticks\": \"\", \"title\": {\"standoff\": 15}, \"zerolinecolor\": \"white\", \"zerolinewidth\": 2}, \"yaxis\": {\"automargin\": true, \"gridcolor\": \"white\", \"linecolor\": \"white\", \"ticks\": \"\", \"title\": {\"standoff\": 15}, \"zerolinecolor\": \"white\", \"zerolinewidth\": 2}}}, \"title\": {\"text\": \"<b>Bills Draft Picks: 2013 - 2020</b>\", \"x\": 0.5, \"xanchor\": \"left\", \"y\": 0.9, \"yanchor\": \"top\"}, \"width\": 1100},                        {\"responsive\": true}                    ).then(function(){\n",
       "                            \n",
       "var gd = document.getElementById('54b596ae-b526-4071-b994-7a28ea12fe77');\n",
       "var x = new MutationObserver(function (mutations, observer) {{\n",
       "        var display = window.getComputedStyle(gd).display;\n",
       "        if (!display || display === 'none') {{\n",
       "            console.log([gd, 'removed!']);\n",
       "            Plotly.purge(gd);\n",
       "            observer.disconnect();\n",
       "        }}\n",
       "}});\n",
       "\n",
       "// Listen for the removal of the full notebook cells\n",
       "var notebookContainer = gd.closest('#notebook-container');\n",
       "if (notebookContainer) {{\n",
       "    x.observe(notebookContainer, {childList: true});\n",
       "}}\n",
       "\n",
       "// Listen for the clearing of the current output cell\n",
       "var outputEl = gd.closest('.output');\n",
       "if (outputEl) {{\n",
       "    x.observe(outputEl, {childList: true});\n",
       "}}\n",
       "\n",
       "                        })                };                });            </script>        </div>"
      ]
     },
     "metadata": {},
     "output_type": "display_data"
    }
   ],
   "source": [
    "# Define a Plotly Sankey diagram\n",
    "fig = go.Figure(\n",
    "    data=[\n",
    "        go.Sankey(\n",
    "            node=dict(label=labels, color=label_colors),\n",
    "            link=dict(\n",
    "                source=links[\"source\"],\n",
    "                target=links[\"target\"],\n",
    "                value=links[\"value\"],\n",
    "                color=links[\"link_c\"],\n",
    "            ),\n",
    "        )\n",
    "    ]\n",
    ")\n",
    "\n",
    "# Customize plot based on earlier values\n",
    "fig.update_layout(\n",
    "    title_text=title,\n",
    "    font_size=fontsize,\n",
    "    font_family=fontfamily,\n",
    "    width=width,\n",
    "    height=height,\n",
    "    paper_bgcolor=bgcolor,\n",
    "    title={\"y\": 0.9, \"x\": 0.5, \"xanchor\": \"left\", \"yanchor\": \"top\"},  # Centers title\n",
    ")\n",
    "\n",
    "fig.show()"
   ]
  }
 ],
 "metadata": {
  "kernelspec": {
   "display_name": "Python 3 (ipykernel)",
   "language": "python",
   "name": "python3"
  },
  "language_info": {
   "codemirror_mode": {
    "name": "ipython",
    "version": 3
   },
   "file_extension": ".py",
   "mimetype": "text/x-python",
   "name": "python",
   "nbconvert_exporter": "python",
   "pygments_lexer": "ipython3",
   "version": "3.9.7"
  }
 },
 "nbformat": 4,
 "nbformat_minor": 5
}
